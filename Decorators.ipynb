{
 "cells": [
  {
   "cell_type": "code",
   "execution_count": 8,
   "metadata": {
    "graffitiCellId": "id_1rzmr5r"
   },
   "outputs": [],
   "source": [
    "from functools import wraps"
   ]
  },
  {
   "cell_type": "code",
   "execution_count": 9,
   "metadata": {
    "graffitiCellId": "id_8f1m7j8"
   },
   "outputs": [
    {
     "output_type": "stream",
     "name": "stdout",
     "text": "jimmy\n"
    }
   ],
   "source": [
    "# Our Basic Function Defn\n",
    "def print_name(name):\n",
    "    print(name)\n",
    "    \n",
    "print_name(\"jimmy\")"
   ]
  },
  {
   "cell_type": "code",
   "execution_count": 10,
   "metadata": {
    "graffitiCellId": "id_2rbu0qg"
   },
   "outputs": [
    {
     "output_type": "stream",
     "name": "stdout",
     "text": "Hello!\nsandy\n"
    }
   ],
   "source": [
    "# Let's add a simple decorator to inject a greeting\n",
    "def add_greeting(f):\n",
    "    @wraps(f)\n",
    "    def wrapper(*args, **kwargs):\n",
    "        print(\"Hello!\")\n",
    "        return f(*args, **kwargs)\n",
    "    return wrapper\n",
    "\n",
    "@add_greeting\n",
    "def print_name(name):\n",
    "    print(name)\n",
    "\n",
    "\n",
    "print_name(\"sandy\")"
   ]
  },
  {
   "cell_type": "code",
   "execution_count": 6,
   "metadata": {
    "graffitiCellId": "id_hwf71dc"
   },
   "outputs": [
    {
     "output_type": "stream",
     "name": "stdout",
     "text": "what's up!\nkathy\n"
    }
   ],
   "source": [
    "# Let's add some complexity in the form of a paramater\n",
    "def add_greeting(greeting=''):\n",
    "    def add_greeting_decorator(f):\n",
    "        @wraps(f)\n",
    "        def wrapper(*args, **kwargs):\n",
    "            print(greeting)\n",
    "            return f(*args, **kwargs)\n",
    "        return wrapper\n",
    "    return add_greeting_decorator\n",
    "\n",
    "@add_greeting(\"what's up!\")\n",
    "def print_name(name):\n",
    "    print(name)\n",
    "\n",
    "\n",
    "print_name(\"kathy\")"
   ]
  },
  {
   "cell_type": "code",
   "execution_count": 11,
   "metadata": {
    "graffitiCellId": "id_u1q74xl"
   },
   "outputs": [
    {
     "output_type": "stream",
     "name": "stdout",
     "text": "Yo!\nYo!\nAbe\n"
    }
   ],
   "source": [
    "# We can also pass information back to the wrapped method\n",
    "def add_greeting(greeting=''):\n",
    "    def add_greeting_decorator(f):\n",
    "        @wraps(f)\n",
    "        def wrapper(*args, **kwargs):\n",
    "            print(greeting)\n",
    "            return f(greeting, *args, **kwargs)\n",
    "        return wrapper\n",
    "    return add_greeting_decorator\n",
    "\n",
    "@add_greeting(\"Yo!\")\n",
    "def print_name(greeting, name):\n",
    "    print(greeting)\n",
    "    print(name)\n",
    "\n",
    "\n",
    "print_name(\"Abe\")"
   ]
  }
 ],
 "metadata": {
  "graffiti": {
   "firstAuthorId": "10489997357",
   "id": "id_6gjobwp",
   "language": "EN"
  },
  "kernelspec": {
   "display_name": "Python 3",
   "language": "python",
   "name": "python3"
  },
  "language_info": {
   "codemirror_mode": {
    "name": "ipython",
    "version": 3
   },
   "file_extension": ".py",
   "mimetype": "text/x-python",
   "name": "python",
   "nbconvert_exporter": "python",
   "pygments_lexer": "ipython3",
   "version": "3.8.1-final"
  }
 },
 "nbformat": 4,
 "nbformat_minor": 2
}